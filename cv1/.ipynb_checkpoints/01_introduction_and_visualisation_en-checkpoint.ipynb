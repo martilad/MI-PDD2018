{
 "cells": [
  {
   "cell_type": "markdown",
   "metadata": {},
   "source": [
    "# 01: Introduction and Visualisation"
   ]
  },
  {
   "cell_type": "markdown",
   "metadata": {},
   "source": [
    "Jupyter **cheat-sheet**: https://www.cheatography.com/weidadeyue/cheat-sheets/jupyter-notebook/"
   ]
  },
  {
   "cell_type": "markdown",
   "metadata": {},
   "source": [
    "## Importing fundamental packages"
   ]
  },
  {
   "cell_type": "markdown",
   "metadata": {},
   "source": [
    "### NumPy \n",
    "  * Package for fast \"scientific\" computing (especially linear algebra and random numbers capabilities).\n",
    "  * Mostly an interface to fast C/C++/Fortran libraries.\n",
    "  * http://www.numpy.org/\n",
    "\n",
    "### pandas\n",
    "  * Popular data analysis toolkit.\n",
    "  * Helps to easily manipulate with **tabular** data.\n",
    "  * http://pandas.pydata.org/\n",
    "\n",
    "### scikit-learn (sklearn)\n",
    "  * Data science tools and methods in Python.\n",
    "  * Built on NumPy, [SciPy](https://www.scipy.org/), and matplotlib\n",
    "  * http://scikit-learn.org/stable/\n",
    "  \n",
    "### matplotlib\n",
    "  * Fundamental 2D plotting library.\n",
    "  * https://matplotlib.org/\n",
    "\n",
    "### seaborn\n",
    "  * Data visualisation tool based on matplotlib.\n",
    "  * https://seaborn.pydata.org/"
   ]
  },
  {
   "cell_type": "code",
   "execution_count": 2,
   "metadata": {},
   "outputs": [],
   "source": [
    "import numpy as np\n",
    "import pandas as pd\n",
    "import sklearn as skit\n",
    "import matplotlib.pyplot as plt\n",
    "import seaborn as sns\n",
    "\n",
    "%matplotlib inline"
   ]
  },
  {
   "cell_type": "markdown",
   "metadata": {},
   "source": [
    "## Basic data manipulations using pandas\n",
    "\n",
    "  - Load data1.csv and data2.csv using pandas.\n",
    "  - Find out types of data in all columns (do they contain strings, numbers, ...? And how variable are these?)"
   ]
  },
  {
   "cell_type": "markdown",
   "metadata": {},
   "source": [
    "### Loading data\n",
    "\n",
    "  - Load data from the csv files to the pandas DataFrame."
   ]
  },
  {
   "cell_type": "code",
   "execution_count": 18,
   "metadata": {},
   "outputs": [],
   "source": [
    "data1 = pd.read_csv('data1.csv')\n",
    "data2 = pd.read_csv('data2.csv', sep=';')"
   ]
  },
  {
   "cell_type": "markdown",
   "metadata": {},
   "source": [
    "### Using pandas functions to get a basic overview of a dataset"
   ]
  },
  {
   "cell_type": "code",
   "execution_count": 36,
   "metadata": {},
   "outputs": [
    {
     "data": {
      "text/html": [
       "<div>\n",
       "<style scoped>\n",
       "    .dataframe tbody tr th:only-of-type {\n",
       "        vertical-align: middle;\n",
       "    }\n",
       "\n",
       "    .dataframe tbody tr th {\n",
       "        vertical-align: top;\n",
       "    }\n",
       "\n",
       "    .dataframe thead th {\n",
       "        text-align: right;\n",
       "    }\n",
       "</style>\n",
       "<table border=\"1\" class=\"dataframe\">\n",
       "  <thead>\n",
       "    <tr style=\"text-align: right;\">\n",
       "      <th></th>\n",
       "      <th>PassengerId</th>\n",
       "      <th>Survived</th>\n",
       "      <th>Pclass</th>\n",
       "      <th>Age</th>\n",
       "      <th>SibSp</th>\n",
       "      <th>Parch</th>\n",
       "      <th>Fare</th>\n",
       "    </tr>\n",
       "  </thead>\n",
       "  <tbody>\n",
       "    <tr>\n",
       "      <th>count</th>\n",
       "      <td>759.000000</td>\n",
       "      <td>759.000000</td>\n",
       "      <td>759.000000</td>\n",
       "      <td>606.000000</td>\n",
       "      <td>759.000000</td>\n",
       "      <td>759.000000</td>\n",
       "      <td>759.000000</td>\n",
       "    </tr>\n",
       "    <tr>\n",
       "      <th>mean</th>\n",
       "      <td>380.000000</td>\n",
       "      <td>0.388669</td>\n",
       "      <td>2.299078</td>\n",
       "      <td>29.896733</td>\n",
       "      <td>0.520422</td>\n",
       "      <td>0.375494</td>\n",
       "      <td>33.248341</td>\n",
       "    </tr>\n",
       "    <tr>\n",
       "      <th>std</th>\n",
       "      <td>219.248717</td>\n",
       "      <td>0.487769</td>\n",
       "      <td>0.835484</td>\n",
       "      <td>14.553021</td>\n",
       "      <td>1.043534</td>\n",
       "      <td>0.804001</td>\n",
       "      <td>52.110573</td>\n",
       "    </tr>\n",
       "    <tr>\n",
       "      <th>min</th>\n",
       "      <td>1.000000</td>\n",
       "      <td>0.000000</td>\n",
       "      <td>1.000000</td>\n",
       "      <td>0.670000</td>\n",
       "      <td>0.000000</td>\n",
       "      <td>0.000000</td>\n",
       "      <td>0.000000</td>\n",
       "    </tr>\n",
       "    <tr>\n",
       "      <th>25%</th>\n",
       "      <td>190.500000</td>\n",
       "      <td>0.000000</td>\n",
       "      <td>2.000000</td>\n",
       "      <td>21.000000</td>\n",
       "      <td>0.000000</td>\n",
       "      <td>0.000000</td>\n",
       "      <td>7.925000</td>\n",
       "    </tr>\n",
       "    <tr>\n",
       "      <th>50%</th>\n",
       "      <td>380.000000</td>\n",
       "      <td>0.000000</td>\n",
       "      <td>3.000000</td>\n",
       "      <td>28.000000</td>\n",
       "      <td>0.000000</td>\n",
       "      <td>0.000000</td>\n",
       "      <td>14.500000</td>\n",
       "    </tr>\n",
       "    <tr>\n",
       "      <th>75%</th>\n",
       "      <td>569.500000</td>\n",
       "      <td>1.000000</td>\n",
       "      <td>3.000000</td>\n",
       "      <td>38.000000</td>\n",
       "      <td>1.000000</td>\n",
       "      <td>0.000000</td>\n",
       "      <td>31.275000</td>\n",
       "    </tr>\n",
       "    <tr>\n",
       "      <th>max</th>\n",
       "      <td>759.000000</td>\n",
       "      <td>1.000000</td>\n",
       "      <td>3.000000</td>\n",
       "      <td>80.000000</td>\n",
       "      <td>8.000000</td>\n",
       "      <td>6.000000</td>\n",
       "      <td>512.329200</td>\n",
       "    </tr>\n",
       "  </tbody>\n",
       "</table>\n",
       "</div>"
      ],
      "text/plain": [
       "       PassengerId    Survived      Pclass         Age       SibSp  \\\n",
       "count   759.000000  759.000000  759.000000  606.000000  759.000000   \n",
       "mean    380.000000    0.388669    2.299078   29.896733    0.520422   \n",
       "std     219.248717    0.487769    0.835484   14.553021    1.043534   \n",
       "min       1.000000    0.000000    1.000000    0.670000    0.000000   \n",
       "25%     190.500000    0.000000    2.000000   21.000000    0.000000   \n",
       "50%     380.000000    0.000000    3.000000   28.000000    0.000000   \n",
       "75%     569.500000    1.000000    3.000000   38.000000    1.000000   \n",
       "max     759.000000    1.000000    3.000000   80.000000    8.000000   \n",
       "\n",
       "            Parch        Fare  \n",
       "count  759.000000  759.000000  \n",
       "mean     0.375494   33.248341  \n",
       "std      0.804001   52.110573  \n",
       "min      0.000000    0.000000  \n",
       "25%      0.000000    7.925000  \n",
       "50%      0.000000   14.500000  \n",
       "75%      0.000000   31.275000  \n",
       "max      6.000000  512.329200  "
      ]
     },
     "metadata": {},
     "output_type": "display_data"
    }
   ],
   "source": [
    "#display(data1.head(2))\n",
    "#display(data2.head(2))\n",
    "#display(data1.info())\n",
    "display(data1.describe())\n",
    "#display(data1.isnull())\n",
    "#display(data1.isnull().sum())\n",
    "#display(data1.head())"
   ]
  },
  {
   "cell_type": "markdown",
   "metadata": {},
   "source": [
    "### Basics of data selection "
   ]
  },
  {
   "cell_type": "code",
   "execution_count": 64,
   "metadata": {},
   "outputs": [
    {
     "data": {
      "text/html": [
       "<div>\n",
       "<style scoped>\n",
       "    .dataframe tbody tr th:only-of-type {\n",
       "        vertical-align: middle;\n",
       "    }\n",
       "\n",
       "    .dataframe tbody tr th {\n",
       "        vertical-align: top;\n",
       "    }\n",
       "\n",
       "    .dataframe thead th {\n",
       "        text-align: right;\n",
       "    }\n",
       "</style>\n",
       "<table border=\"1\" class=\"dataframe\">\n",
       "  <thead>\n",
       "    <tr style=\"text-align: right;\">\n",
       "      <th></th>\n",
       "      <th>0</th>\n",
       "      <th>1</th>\n",
       "      <th>2</th>\n",
       "      <th>3</th>\n",
       "      <th>4</th>\n",
       "      <th>5</th>\n",
       "      <th>6</th>\n",
       "      <th>7</th>\n",
       "      <th>8</th>\n",
       "      <th>9</th>\n",
       "      <th>10</th>\n",
       "      <th>11</th>\n",
       "    </tr>\n",
       "  </thead>\n",
       "  <tbody>\n",
       "    <tr>\n",
       "      <th>0</th>\n",
       "      <td>1</td>\n",
       "      <td>0</td>\n",
       "      <td>3</td>\n",
       "      <td>Braund, Mr. Owen Harris</td>\n",
       "      <td>male</td>\n",
       "      <td>22.0</td>\n",
       "      <td>1</td>\n",
       "      <td>0</td>\n",
       "      <td>A/5 21171</td>\n",
       "      <td>7.2500</td>\n",
       "      <td>NaN</td>\n",
       "      <td>S</td>\n",
       "    </tr>\n",
       "    <tr>\n",
       "      <th>1</th>\n",
       "      <td>2</td>\n",
       "      <td>1</td>\n",
       "      <td>1</td>\n",
       "      <td>Cumings, Mrs. John Bradley (Florence Briggs Th...</td>\n",
       "      <td>female</td>\n",
       "      <td>38.0</td>\n",
       "      <td>1</td>\n",
       "      <td>0</td>\n",
       "      <td>PC 17599</td>\n",
       "      <td>71.2833</td>\n",
       "      <td>C85</td>\n",
       "      <td>C</td>\n",
       "    </tr>\n",
       "    <tr>\n",
       "      <th>2</th>\n",
       "      <td>3</td>\n",
       "      <td>1</td>\n",
       "      <td>3</td>\n",
       "      <td>Heikkinen, Miss. Laina</td>\n",
       "      <td>female</td>\n",
       "      <td>26.0</td>\n",
       "      <td>0</td>\n",
       "      <td>0</td>\n",
       "      <td>STON/O2. 3101282</td>\n",
       "      <td>7.9250</td>\n",
       "      <td>NaN</td>\n",
       "      <td>S</td>\n",
       "    </tr>\n",
       "    <tr>\n",
       "      <th>3</th>\n",
       "      <td>4</td>\n",
       "      <td>1</td>\n",
       "      <td>1</td>\n",
       "      <td>Futrelle, Mrs. Jacques Heath (Lily May Peel)</td>\n",
       "      <td>female</td>\n",
       "      <td>35.0</td>\n",
       "      <td>1</td>\n",
       "      <td>0</td>\n",
       "      <td>113803</td>\n",
       "      <td>53.1000</td>\n",
       "      <td>C123</td>\n",
       "      <td>S</td>\n",
       "    </tr>\n",
       "    <tr>\n",
       "      <th>4</th>\n",
       "      <td>5</td>\n",
       "      <td>0</td>\n",
       "      <td>3</td>\n",
       "      <td>Allen, Mr. William Henry</td>\n",
       "      <td>male</td>\n",
       "      <td>35.0</td>\n",
       "      <td>0</td>\n",
       "      <td>0</td>\n",
       "      <td>373450</td>\n",
       "      <td>8.0500</td>\n",
       "      <td>NaN</td>\n",
       "      <td>S</td>\n",
       "    </tr>\n",
       "  </tbody>\n",
       "</table>\n",
       "</div>"
      ],
      "text/plain": [
       "   0   1   2                                                  3       4   \\\n",
       "0   1   0   3                            Braund, Mr. Owen Harris    male   \n",
       "1   2   1   1  Cumings, Mrs. John Bradley (Florence Briggs Th...  female   \n",
       "2   3   1   3                             Heikkinen, Miss. Laina  female   \n",
       "3   4   1   1       Futrelle, Mrs. Jacques Heath (Lily May Peel)  female   \n",
       "4   5   0   3                           Allen, Mr. William Henry    male   \n",
       "\n",
       "     5   6   7                 8        9     10 11  \n",
       "0  22.0   1   0         A/5 21171   7.2500   NaN  S  \n",
       "1  38.0   1   0          PC 17599  71.2833   C85  C  \n",
       "2  26.0   0   0  STON/O2. 3101282   7.9250   NaN  S  \n",
       "3  35.0   1   0            113803  53.1000  C123  S  \n",
       "4  35.0   0   0            373450   8.0500   NaN  S  "
      ]
     },
     "metadata": {},
     "output_type": "display_data"
    },
    {
     "data": {
      "text/html": [
       "<div>\n",
       "<style scoped>\n",
       "    .dataframe tbody tr th:only-of-type {\n",
       "        vertical-align: middle;\n",
       "    }\n",
       "\n",
       "    .dataframe tbody tr th {\n",
       "        vertical-align: top;\n",
       "    }\n",
       "\n",
       "    .dataframe thead th {\n",
       "        text-align: right;\n",
       "    }\n",
       "</style>\n",
       "<table border=\"1\" class=\"dataframe\">\n",
       "  <thead>\n",
       "    <tr style=\"text-align: right;\">\n",
       "      <th></th>\n",
       "      <th>Age</th>\n",
       "      <th>Sex</th>\n",
       "    </tr>\n",
       "  </thead>\n",
       "  <tbody>\n",
       "    <tr>\n",
       "      <th>0</th>\n",
       "      <td>22.0</td>\n",
       "      <td>male</td>\n",
       "    </tr>\n",
       "    <tr>\n",
       "      <th>1</th>\n",
       "      <td>38.0</td>\n",
       "      <td>female</td>\n",
       "    </tr>\n",
       "    <tr>\n",
       "      <th>2</th>\n",
       "      <td>26.0</td>\n",
       "      <td>female</td>\n",
       "    </tr>\n",
       "  </tbody>\n",
       "</table>\n",
       "</div>"
      ],
      "text/plain": [
       "    Age     Sex\n",
       "0  22.0    male\n",
       "1  38.0  female\n",
       "2  26.0  female"
      ]
     },
     "execution_count": 64,
     "metadata": {},
     "output_type": "execute_result"
    }
   ],
   "source": [
    "#data1['Age'] # the collumn with pandas.Series.name = 'Age'\n",
    "#data1.Age # dtto\n",
    "#data1['Age'][:10] # get first 10 entries of the column Age\n",
    "#data1['Age'][:3][[True, False, True]]\n",
    "#data1['Age'] > 30 # applying condition on on all entries of the series -> series containg the results (True/False)\n",
    "#data1[(data1.Age > 30) & (data1.Survived == 1)] # series containing only people older that 30\n",
    "data1[['Age', 'Survived']].head() # selecting only given columns\n",
    "#jmena sloupcu jsou nutna, cisla jedou pres radky\n",
    "data1_tmp = data1.copy() # make a deep copy of the dataframe\n",
    "data1_tmp.columns = range(12) # renaming columns\n",
    "display(data1_tmp.head())\n",
    "data1_tmp[[1,2]]\n",
    "#data1_tmp.head()\n",
    "data1.iloc[:2,0:3] # geting the first row\n",
    "data1.loc[:2,['Age', 'Sex']] # indexer (see .loc? and .iloc?)"
   ]
  },
  {
   "cell_type": "markdown",
   "metadata": {},
   "source": [
    "## Task 01: Concatenating data\n",
    "\n",
    "  - Append data2.csv to data1.csv:\n",
    "      - Data (columns) not present in data1.csv are omitted from data2.csv.\n",
    "      - Calculate the Age using the BirthYear column in data2.csv and append the result to the Age column of data1.\n",
    "      - PasangerId must be unique in the resulting data frame. \n",
    "      - Use pandas.concat method."
   ]
  },
  {
   "cell_type": "code",
   "execution_count": 85,
   "metadata": {},
   "outputs": [
    {
     "name": "stdout",
     "output_type": "stream",
     "text": [
      "<class 'pandas.core.frame.DataFrame'>\n",
      "RangeIndex: 759 entries, 0 to 758\n",
      "Data columns (total 12 columns):\n",
      "PassengerId    759 non-null int64\n",
      "Survived       759 non-null int64\n",
      "Pclass         759 non-null int64\n",
      "Name           759 non-null object\n",
      "Sex            759 non-null object\n",
      "Age            606 non-null float64\n",
      "SibSp          759 non-null int64\n",
      "Parch          759 non-null int64\n",
      "Ticket         759 non-null object\n",
      "Fare           759 non-null float64\n",
      "Cabin          175 non-null object\n",
      "Embarked       758 non-null object\n",
      "dtypes: float64(2), int64(5), object(5)\n",
      "memory usage: 71.2+ KB\n"
     ]
    },
    {
     "data": {
      "text/plain": [
       "None"
      ]
     },
     "metadata": {},
     "output_type": "display_data"
    },
    {
     "name": "stdout",
     "output_type": "stream",
     "text": [
      "<class 'pandas.core.frame.DataFrame'>\n",
      "RangeIndex: 132 entries, 0 to 131\n",
      "Data columns (total 14 columns):\n",
      "Unnamed: 0     132 non-null int64\n",
      "PassengerId    132 non-null int64\n",
      "Survived       132 non-null int64\n",
      "Pclass         132 non-null int64\n",
      "Name           132 non-null object\n",
      "Sex            132 non-null object\n",
      "BirthYear      108 non-null float64\n",
      "FootSize       132 non-null int64\n",
      "SibSp          132 non-null int64\n",
      "Parch          132 non-null int64\n",
      "Ticket         132 non-null object\n",
      "Fare           132 non-null float64\n",
      "Cabin          29 non-null object\n",
      "Embarked       131 non-null object\n",
      "dtypes: float64(2), int64(7), object(5)\n",
      "memory usage: 14.5+ KB\n"
     ]
    },
    {
     "data": {
      "text/plain": [
       "None"
      ]
     },
     "metadata": {},
     "output_type": "display_data"
    },
    {
     "name": "stdout",
     "output_type": "stream",
     "text": [
      "<class 'pandas.core.frame.DataFrame'>\n",
      "Int64Index: 891 entries, 0 to 131\n",
      "Data columns (total 12 columns):\n",
      "Age            714 non-null float64\n",
      "Cabin          204 non-null object\n",
      "Embarked       889 non-null object\n",
      "Fare           891 non-null float64\n",
      "Name           891 non-null object\n",
      "Parch          891 non-null int64\n",
      "PassengerId    891 non-null int64\n",
      "Pclass         891 non-null int64\n",
      "Sex            891 non-null object\n",
      "SibSp          891 non-null int64\n",
      "Survived       891 non-null int64\n",
      "Ticket         891 non-null object\n",
      "dtypes: float64(2), int64(5), object(5)\n",
      "memory usage: 90.5+ KB\n"
     ]
    },
    {
     "name": "stderr",
     "output_type": "stream",
     "text": [
      "/usr/lib/python3.6/site-packages/ipykernel_launcher.py:8: FutureWarning: Sorting because non-concatenation axis is not aligned. A future version\n",
      "of pandas will change to not sort by default.\n",
      "\n",
      "To accept the future behavior, pass 'sort=False'.\n",
      "\n",
      "To retain the current behavior and silence the warning, pass 'sort=True'.\n",
      "\n",
      "  \n"
     ]
    },
    {
     "data": {
      "text/plain": [
       "None"
      ]
     },
     "metadata": {},
     "output_type": "display_data"
    }
   ],
   "source": [
    "### your code goes here\n",
    "display(data1.info())\n",
    "display(data2.info())\n",
    "data2tmp = data2.copy()\n",
    "#display(data2.BirthYear.max())\n",
    "data2tmp[\"Age\"] = 1912 - data2.BirthYear\n",
    "data2tmp = data2tmp[[col for col in data2tmp.columns if col in data1]]\n",
    "data = pd.concat([data1, data2tmp])\n",
    "data.head()\n",
    "\n",
    "display(data.info())\n",
    "\n",
    "\n",
    "\n",
    "\n",
    "#display([i for i in data2.columns if i not in data1.columns])\n",
    "#out = data1.append(data2, sort=False)\n",
    "#out.info()\n"
   ]
  },
  {
   "cell_type": "markdown",
   "metadata": {},
   "source": [
    "## Plotting with pandas and seaborn"
   ]
  },
  {
   "cell_type": "code",
   "execution_count": 86,
   "metadata": {},
   "outputs": [],
   "source": [
    "import matplotlib.pyplot as plt # standard convention for importing the plotting tool\n",
    "import matplotlib\n",
    "%matplotlib inline\n",
    "matplotlib.style.use('ggplot')"
   ]
  },
  {
   "cell_type": "markdown",
   "metadata": {},
   "source": [
    "### Influence of Pclass, Age and Sex on passangers chances"
   ]
  },
  {
   "cell_type": "code",
   "execution_count": 90,
   "metadata": {},
   "outputs": [
    {
     "data": {
      "text/plain": [
       "<matplotlib.axes._subplots.AxesSubplot at 0x7f12938aedd8>"
      ]
     },
     "execution_count": 90,
     "metadata": {},
     "output_type": "execute_result"
    },
    {
     "data": {
      "image/png": "[encoded data removed]",
      "text/plain": [
       "<matplotlib.figure.Figure at 0x7f12938e9080>"
      ]
     },
     "metadata": {},
     "output_type": "display_data"
    }
   ],
   "source": [
    "#data.plot() # default behaviour of the plot() method\n",
    "# look especially on what kinds of plots are available:\n",
    "#data.plot?\n",
    "\n",
    "# get data frames for survived and not-survived passangers\n",
    "survived = data[data['Survived'] == 1]\n",
    "not_survived = data[data['Survived'] == 0]\n",
    "\n",
    "ax = survived.plot.scatter(x='Age', y='Pclass', color='Green', label='Survived')\n",
    "#not_survived.plot(x='Age', y='Pclass', kind='scatter', color='Black', label='Not Survived')\n",
    "# plot the graphs into one figure:\n",
    "not_survived.plot.scatter(x='Age', y='Pclass', color='Black', label='Not Survived', ax = ax)"
   ]
  },
  {
   "cell_type": "code",
   "execution_count": 91,
   "metadata": {},
   "outputs": [
    {
     "data": {
      "text/plain": [
       "<matplotlib.axes._subplots.AxesSubplot at 0x7f12933ca240>"
      ]
     },
     "execution_count": 91,
     "metadata": {},
     "output_type": "execute_result"
    },
    {
     "data": {
      "image/png": "[encoded data removed]",
      "text/plain": [
       "<matplotlib.figure.Figure at 0x7f129347ef98>"
      ]
     },
     "metadata": {},
     "output_type": "display_data"
    }
   ],
   "source": [
    "plt.figure(figsize=(9,12)) # figsize in inches\n",
    "plt.subplot(321) # three rows and two columns, put the following plot into the first slot\n",
    "plt.xlabel('Age')\n",
    "plt.ylim((0,160))\n",
    "survived['Age'].plot.hist(color='Green')\n",
    "plt.subplot(322)\n",
    "plt.ylim((0,160))\n",
    "plt.xlabel('Age')\n",
    "not_survived['Age'].plot.hist(color='Black')\n",
    "plt.subplot(323)\n",
    "plt.ylim((0,370))\n",
    "plt.xlabel('Pclass')\n",
    "survived['Pclass'].plot.hist(color='Green')\n",
    "plt.subplot(324)\n",
    "plt.ylim((0,370))\n",
    "plt.xlabel('Pclass')\n",
    "not_survived['Pclass'].plot.hist(color='Black')\n",
    "plt.subplot(325)\n",
    "plt.ylim((0,480))\n",
    "plt.xlabel('Sex')\n",
    "survived['Sex'].apply(lambda x: 1 if x == 'female' else 0).plot.hist(color='Green')\n",
    "plt.subplot(326)\n",
    "plt.ylim((0,480))\n",
    "plt.xlabel('Sex')\n",
    "not_survived['Sex'].apply(lambda x: 1 if x == 'female' else 0).plot.hist(color='Black')"
   ]
  },
  {
   "cell_type": "markdown",
   "metadata": {},
   "source": [
    "## Seaborne: investigating relations between features"
   ]
  },
  {
   "cell_type": "code",
   "execution_count": 92,
   "metadata": {},
   "outputs": [
    {
     "name": "stdout",
     "output_type": "stream",
     "text": [
      "               Age      Fare     Parch    Pclass       Sex     SibSp  Survived\n",
      "Age       1.000000 -0.104007 -0.189056 -0.369388 -0.093223 -0.308126 -0.077128\n",
      "Fare     -0.104007  1.000000  0.159925  0.084197  0.026989  0.116760 -0.027145\n",
      "Parch    -0.189056  0.159925  1.000000  0.018443  0.245489  0.414838  0.081629\n",
      "Pclass   -0.369388  0.084197  0.018443  1.000000 -0.131900  0.083081 -0.338481\n",
      "Sex      -0.093223  0.026989  0.245489 -0.131900  1.000000  0.114631  0.543351\n",
      "SibSp    -0.308126  0.116760  0.414838  0.083081  0.114631  1.000000 -0.035322\n",
      "Survived -0.077128 -0.027145  0.081629 -0.338481  0.543351 -0.035322  1.000000\n"
     ]
    },
    {
     "data": {
      "text/plain": [
       "<matplotlib.axes._subplots.AxesSubplot at 0x7f1293545908>"
      ]
     },
     "execution_count": 92,
     "metadata": {},
     "output_type": "execute_result"
    },
    {
     "data": {
      "image/png": "[encoded data removed]",
      "text/plain": [
       "<matplotlib.figure.Figure at 0x7f1293c98630>"
      ]
     },
     "metadata": {},
     "output_type": "display_data"
    }
   ],
   "source": [
    "plt.figure(figsize=(14,12))\n",
    "data['Sex'] = data['Sex'].apply(lambda x: 1 if x == 'female' else 0)\n",
    "cor_matrix = data.drop('PassengerId', axis=1).corr()\n",
    "print(cor_matrix)\n",
    "sns.heatmap(cor_matrix, annot=True)"
   ]
  },
  {
   "cell_type": "markdown",
   "metadata": {},
   "source": [
    "## Task 02: scatter plots for all pairs of features\n",
    "\n",
    "  - Use sns.pairplot method to get the plots analogous to the one below for all (reasonable) pairs of features. Explain what you see :)."
   ]
  },
  {
   "cell_type": "code",
   "execution_count": 93,
   "metadata": {},
   "outputs": [
    {
     "data": {
      "text/plain": [
       "<matplotlib.axes._subplots.AxesSubplot at 0x7f12937f4668>"
      ]
     },
     "execution_count": 93,
     "metadata": {},
     "output_type": "execute_result"
    },
    {
     "data": {
      "image/png": "[encoded data removed]",
      "text/plain": [
       "<matplotlib.figure.Figure at 0x7f12939fa6d8>"
      ]
     },
     "metadata": {},
     "output_type": "display_data"
    }
   ],
   "source": [
    "plt.figure(figsize=(12,4))\n",
    "sns.stripplot(x=\"Pclass\", y=\"Age\", hue=\"Survived\", data=data, palette= ['red','green'], jitter=True) # add \n",
    "#suoper pro disketri data rozhodi body aby se neprekrivaly"
   ]
  },
  {
   "cell_type": "code",
   "execution_count": null,
   "metadata": {},
   "outputs": [],
   "source": [
    "### your code goes here\n"
   ]
  },
  {
   "cell_type": "markdown",
   "metadata": {},
   "source": [
    "## Web scrapping with Python and pandas (1st homework)\n",
    "          \n",
    "### Tips:\n",
    "   - Use `import requests` to get HTML sourse of a given `url`: \n",
    "      - `r = requests.get(url)`\n",
    "      - `html = r.text`\n",
    "   - Use `pandas.read_html(r.text)` to save content of all `<table>`'s as pandas DataFrames:\n",
    "      - `list_of_data_frames = pd.read_html(html,flavor='html5lib')`\n",
    "   - Use `from bs4 import BeautifulSoup` for html parsing."
   ]
  },
  {
   "cell_type": "code",
   "execution_count": 95,
   "metadata": {},
   "outputs": [],
   "source": [
    "import requests\n",
    "from bs4 import BeautifulSoup"
   ]
  },
  {
   "cell_type": "markdown",
   "metadata": {},
   "source": [
    "### Example of simple web scrapping\n",
    "\n",
    "The aim is to download all data availale here (http://kap.ujak.cz/index.php) and store them in pandas DataFrame."
   ]
  },
  {
   "cell_type": "code",
   "execution_count": 96,
   "metadata": {},
   "outputs": [
    {
     "name": "stdout",
     "output_type": "stream",
     "text": [
      "http://kap.ujak.cz/index.php?strana=30\n",
      "http://kap.ujak.cz/index.php?strana=60\n",
      "http://kap.ujak.cz/index.php?strana=90\n",
      "http://kap.ujak.cz/index.php?strana=120\n",
      "http://kap.ujak.cz/index.php?strana=150\n",
      "http://kap.ujak.cz/index.php?strana=180\n"
     ]
    }
   ],
   "source": [
    "# url with search form\n",
    "url = 'http://kap.ujak.cz/index.php?strana={}'\n",
    "# setting POST variables to simulate (use developer mode of your browser)\n",
    "data = {\n",
    "    'typ' : 'kap',\n",
    "    'prace' : 'BP', # DP = diplomka, DR = disertace, RI = rigorozní\n",
    "    'nazev' : '%%%', # alespoň tři písmena z názvu hledané práce\n",
    "    'pocet' : '0',\n",
    "    'klic' : '', # alespoň tři písmena z klíčových slov\n",
    "    'kl' : 'c', # c = částečně odpovídá, n = plně odpovídá\n",
    "    'hledat' : 'Vyhledat'\n",
    "}\n",
    "\n",
    "data_all = pd.DataFrame()\n",
    "for prace in ['BP', 'DP']:\n",
    "    data['prace'] = prace\n",
    "    r = requests.post(url, data)\n",
    "    r.encoding='cp1250'\n",
    "    ldf = pd.read_html(r.text,flavor='html5lib', header=0)\n",
    "    df = ldf[0]\n",
    "    strana = 30\n",
    "    if data_all.shape[0] == 0:\n",
    "        data_all = df.copy()\n",
    "    else:\n",
    "        data_all = pd.concat([data_all,df], ignore_index=True)\n",
    "    while df.shape[0] > 0:\n",
    "        if data_all.shape[0] > 200: # just to prevent from downloading all data\n",
    "            break\n",
    "        print(url.format(strana))\n",
    "        r = requests.post(url.format(strana), data)\n",
    "        r.encoding='cp1250'\n",
    "        ldf = pd.read_html(r.text,flavor='html5lib', header=0)\n",
    "        df = ldf[0]\n",
    "        strana = strana + 30\n",
    "        data_all = pd.concat([data_all,df], ignore_index=True)"
   ]
  },
  {
   "cell_type": "code",
   "execution_count": 97,
   "metadata": {},
   "outputs": [
    {
     "data": {
      "text/html": [
       "<div>\n",
       "<style scoped>\n",
       "    .dataframe tbody tr th:only-of-type {\n",
       "        vertical-align: middle;\n",
       "    }\n",
       "\n",
       "    .dataframe tbody tr th {\n",
       "        vertical-align: top;\n",
       "    }\n",
       "\n",
       "    .dataframe thead th {\n",
       "        text-align: right;\n",
       "    }\n",
       "</style>\n",
       "<table border=\"1\" class=\"dataframe\">\n",
       "  <thead>\n",
       "    <tr style=\"text-align: right;\">\n",
       "      <th></th>\n",
       "      <th>Autor</th>\n",
       "      <th>Název práce</th>\n",
       "      <th>Vedoucí</th>\n",
       "      <th>Rok</th>\n",
       "      <th>Typ práce</th>\n",
       "    </tr>\n",
       "  </thead>\n",
       "  <tbody>\n",
       "    <tr>\n",
       "      <th>0</th>\n",
       "      <td>Abdrakhmanova Aizhan</td>\n",
       "      <td>Vliv médií na děti a mládež v Kazachstánu</td>\n",
       "      <td>Svobodová Alena, Doc. PhDr.; CSc.</td>\n",
       "      <td>2017</td>\n",
       "      <td>BP</td>\n",
       "    </tr>\n",
       "    <tr>\n",
       "      <th>1</th>\n",
       "      <td>Abdullayev Timur</td>\n",
       "      <td>Inflation: Kazakhstani and global tendencies</td>\n",
       "      <td>Vacenovský Michal, Ing.; LL.M.</td>\n",
       "      <td>2011</td>\n",
       "      <td>BP</td>\n",
       "    </tr>\n",
       "    <tr>\n",
       "      <th>2</th>\n",
       "      <td>Abdussattarov Nursultan</td>\n",
       "      <td>Payment system od Kazakhstan: modern condition...</td>\n",
       "      <td>Vacenovský Michal, Ing.; LL.M.</td>\n",
       "      <td>2011</td>\n",
       "      <td>BP</td>\n",
       "    </tr>\n",
       "    <tr>\n",
       "      <th>3</th>\n",
       "      <td>Ábelová Šárka</td>\n",
       "      <td>Rovné příležitosti mužů a žen na trhu práce (Z...</td>\n",
       "      <td>Vacínová Marie, PhDr.; CSc.</td>\n",
       "      <td>2007</td>\n",
       "      <td>BP</td>\n",
       "    </tr>\n",
       "    <tr>\n",
       "      <th>4</th>\n",
       "      <td>Abrahámová Jaroslava</td>\n",
       "      <td>Nekalá soutěž v aplikační praxi soudů v ČR</td>\n",
       "      <td>Rákosník Jakub, Doc. PhDr. JUDr; Ph.D.</td>\n",
       "      <td>2008</td>\n",
       "      <td>BP</td>\n",
       "    </tr>\n",
       "  </tbody>\n",
       "</table>\n",
       "</div>"
      ],
      "text/plain": [
       "                     Autor                                        Název práce  \\\n",
       "0     Abdrakhmanova Aizhan          Vliv médií na děti a mládež v Kazachstánu   \n",
       "1         Abdullayev Timur       Inflation: Kazakhstani and global tendencies   \n",
       "2  Abdussattarov Nursultan  Payment system od Kazakhstan: modern condition...   \n",
       "3            Ábelová Šárka  Rovné příležitosti mužů a žen na trhu práce (Z...   \n",
       "4     Abrahámová Jaroslava         Nekalá soutěž v aplikační praxi soudů v ČR   \n",
       "\n",
       "                                  Vedoucí   Rok Typ práce  \n",
       "0       Svobodová Alena, Doc. PhDr.; CSc.  2017        BP  \n",
       "1          Vacenovský Michal, Ing.; LL.M.  2011        BP  \n",
       "2          Vacenovský Michal, Ing.; LL.M.  2011        BP  \n",
       "3             Vacínová Marie, PhDr.; CSc.  2007        BP  \n",
       "4  Rákosník Jakub, Doc. PhDr. JUDr; Ph.D.  2008        BP  "
      ]
     },
     "metadata": {},
     "output_type": "display_data"
    },
    {
     "data": {
      "text/plain": [
       "Název práce\n",
       "Mezilidské vztahy na pracovišti                                                         56\n",
       "Vliv rodiny na zdravý duševní vývoj dítěte                                              51\n",
       "Domácí násilí                                                                           33\n",
       "Specifické poruchy učení                                                                32\n",
       "Kvalita života seniorů                                                                  31\n",
       "Syndrom vyhoření                                                                        28\n",
       "Vzdělávání seniorů                                                                      28\n",
       "Systém vzdělávání a rozvoj lidských zdrojů v organizaci                                 27\n",
       "Vedení týmu                                                                             27\n",
       "Motivace, hodnocení a odměňování pracovníků v organizaci                                25\n",
       "Dieťa postihnuté autizmom - možnosti výchovy a vzdelávania                              24\n",
       "Psychologie reklamy                                                                     23\n",
       "Emoční inteligence a možnosti jejího rozvoje                                            21\n",
       "Motivace zaměstnanců jako nástroj dosažení cíle                                         20\n",
       "Motivace zaměstnanců                                                                    19\n",
       "Firemní vzdělávání                                                                      19\n",
       "Šikana na pracovišti                                                                    19\n",
       "Poruchy příjmu potravy                                                                  19\n",
       "Vliv patogenního rodinného prostředí na rozvoj osobnosti dítěte                         19\n",
       "Nezaměstnanost jako sociální problém                                                    18\n",
       "Syndrom vyhoření v pomáhajících profesích                                               18\n",
       "Vlastní téma                                                                            18\n",
       "Kriminalita mládeže                                                                     18\n",
       "Drogy a drogová závislosť u mládeže                                                     18\n",
       "Drogové závislosti u dospívajících                                                      16\n",
       "Agresivita jako psychologický problém osobnosti                                         16\n",
       "Získávání a výběr pracovníků v organizaci                                               16\n",
       "Firemní kultura                                                                         15\n",
       "Drogy a drogová závislost u mládeže                                                     15\n",
       "Logopedická péče o dítě s koktavostí                                                    15\n",
       "                                                                                        ..\n",
       "Sociální práce v penitenciárním prostředí                                                1\n",
       "Sociální práce ve středověku                                                             1\n",
       "Sociální práva - historický vývoj, základní dokumenty a jejich ochrana v současné EU     1\n",
       "Sociální péče o seniory v České republice                                                1\n",
       "Sociální práce s cizinci v Záchytném zařízení pro cizince Bělá-Jezová                    1\n",
       "Sociální práce na obecních úřadech od 1.1.2012                                           1\n",
       "Sociální patologie - prostituce                                                          1\n",
       "Sociální práce kurátora pro mládež u klientů s psychiatrickou diagnózou                  1\n",
       "Sociální patologie dnešní mládeže                                                        1\n",
       "Sociální patologie se zaměřením na prostituci                                            1\n",
       "Sociální percepce                                                                        1\n",
       "Sociální percepce ve vybraných personálních situacích                                    1\n",
       "Sociální podnikání v tržním hospodářství                                                 1\n",
       "Sociální pojištění samostatně výdělečně činné osoby                                      1\n",
       "Sociální politika a podniková sociální politika                                          1\n",
       "Sociální politika státu                                                                  1\n",
       "Sociální politika v České republice                                                      1\n",
       "Sociální pomoc v systému sociálního zabezpečení                                          1\n",
       "Sociální poruchy dospívájících dívek                                                     1\n",
       "Sociální pozice stáří v naší společnosti                                                 1\n",
       "Sociální pracovnice v systému zacházení s drogově závislými vězni                        1\n",
       "Sociální pracovník - Syndrom vyhoření a prevence proti němu                              1\n",
       "Sociální pracovník a syndrom vyhoření                                                    1\n",
       "Sociální pracovník v roli vedoucího týmu klíčových pracovníků v domově pro seniory       1\n",
       "Sociální prevence a neintencionální výchova mládeže v Šluknovském regionu                1\n",
       "Sociální profil pracovníků týmu a jejich rozvoj                                          1\n",
       "Sociální prostředí a jazyk                                                               1\n",
       "Sociální prostředí ve vztahu k dalšímu vzdělávání                                        1\n",
       "Sociální práce a úloha sociálního pracovníka v oblasti penitenciární péče                1\n",
       "\" Zpověď \" jako zdroj poznání životní pouti člověka                                      1\n",
       "Length: 26624, dtype: int64"
      ]
     },
     "execution_count": 97,
     "metadata": {},
     "output_type": "execute_result"
    }
   ],
   "source": [
    "dataUJAK = pd.read_csv('ujak.csv', index_col=0)\n",
    "display(dataUJAK.head())\n",
    "dataUJAK[dataUJAK['Rok'] > 2000].groupby(['Název práce']).size().sort_values(ascending=False)"
   ]
  },
  {
   "cell_type": "code",
   "execution_count": null,
   "metadata": {},
   "outputs": [],
   "source": []
  }
 ],
 "metadata": {
  "kernelspec": {
   "display_name": "Python 3",
   "language": "python",
   "name": "python3"
  },
  "language_info": {
   "codemirror_mode": {
    "name": "ipython",
    "version": 3
   },
   "file_extension": ".py",
   "mimetype": "text/x-python",
   "name": "python",
   "nbconvert_exporter": "python",
   "pygments_lexer": "ipython3",
   "version": "3.6.5"
  }
 },
 "nbformat": 4,
 "nbformat_minor": 2
}
